{
 "cells": [
  {
   "cell_type": "code",
   "execution_count": 1,
   "id": "1284ef04",
   "metadata": {},
   "outputs": [
    {
     "name": "stdout",
     "output_type": "stream",
     "text": [
      "1\n",
      "[1 2]\n",
      "[[1 2]\n",
      " [3 4]]\n",
      "dim of a: 0\n",
      "dim of a: 1\n",
      "dim of a: 2\n"
     ]
    }
   ],
   "source": [
    "import numpy as np\n",
    "\n",
    "a = np.array(1)\n",
    "b = np.array([1,2])\n",
    "c = np.array([[1,2],[3,4]])\n",
    "print(a)\n",
    "print(b)\n",
    "print(c)\n",
    "\n",
    "print('dim of a:',a.ndim)\n",
    "print('dim of a:',b.ndim)\n",
    "print('dim of a:',c.ndim)\n"
   ]
  },
  {
   "cell_type": "code",
   "execution_count": 2,
   "id": "4a3a1d0b",
   "metadata": {},
   "outputs": [
    {
     "name": "stdout",
     "output_type": "stream",
     "text": [
      "[[[[[1 2 3]]]]]\n"
     ]
    }
   ],
   "source": [
    "d = np.array([1,2,3],ndmin = 5)\n",
    "print(d)"
   ]
  },
  {
   "cell_type": "code",
   "execution_count": 3,
   "id": "2a2530d7",
   "metadata": {},
   "outputs": [
    {
     "name": "stdout",
     "output_type": "stream",
     "text": [
      "sum : 3\n",
      "product : 2\n"
     ]
    }
   ],
   "source": [
    "print('sum :',b[0] + b[1])\n",
    "print('product :',b[0]*b[1])"
   ]
  },
  {
   "cell_type": "code",
   "execution_count": 4,
   "id": "a4bfa89c",
   "metadata": {},
   "outputs": [
    {
     "name": "stdout",
     "output_type": "stream",
     "text": [
      "sum : 5\n",
      "product : 3\n"
     ]
    }
   ],
   "source": [
    "print('sum :',c[1,0] + c[0,1])\n",
    "print('product :',c[0,0] * c[1,0])"
   ]
  },
  {
   "cell_type": "code",
   "execution_count": 5,
   "id": "4a642f94",
   "metadata": {},
   "outputs": [
    {
     "name": "stdout",
     "output_type": "stream",
     "text": [
      "last emlement from 2d : 4\n"
     ]
    }
   ],
   "source": [
    "print('last emlement from 2d :',c[1,-1])"
   ]
  },
  {
   "cell_type": "code",
   "execution_count": 6,
   "id": "efccb66f",
   "metadata": {},
   "outputs": [
    {
     "name": "stdout",
     "output_type": "stream",
     "text": [
      "Slicing : [1 2 3 4 5 6]\n",
      "till last : [4 5 6 7 8]\n",
      "step values : [1 3 5 7]\n",
      "reverse the list : [8 7 6 5 4 3 2 1]\n"
     ]
    }
   ],
   "source": [
    "#slicing \n",
    "s = np.array([1,2,3,4,5,6,7,8])\n",
    "print('Slicing :',s[0:6])\n",
    "print('till last :',s[3:])\n",
    "print('step values :',s[0::2])\n",
    "print('reverse the list :',s[::-1])\n"
   ]
  },
  {
   "cell_type": "code",
   "execution_count": 7,
   "id": "2711aa3e",
   "metadata": {},
   "outputs": [
    {
     "name": "stdout",
     "output_type": "stream",
     "text": [
      "Slicing 2D : [7 8 9]\n"
     ]
    }
   ],
   "source": [
    "#slicing on 2d array\n",
    "t = np.array([[1,2,3,4,5],[6,7,8,9,0]])\n",
    "print('Slicing 2D :',t[1,1:4])"
   ]
  },
  {
   "cell_type": "code",
   "execution_count": 8,
   "id": "8dcd8792",
   "metadata": {},
   "outputs": [
    {
     "name": "stdout",
     "output_type": "stream",
     "text": [
      "<U3\n",
      "[b'1' b'2' b'3']\n",
      "|S1\n",
      "b'23'\n"
     ]
    }
   ],
   "source": [
    "ar = np.array(['aas','b','c'])\n",
    "print(ar.dtype)\n",
    "arr = np.array([1,2,3],dtype = 'S')\n",
    "print(arr)\n",
    "print(arr.dtype)\n",
    "print(arr[1]+arr[2])"
   ]
  },
  {
   "cell_type": "code",
   "execution_count": 9,
   "id": "8310aef0",
   "metadata": {},
   "outputs": [
    {
     "name": "stdout",
     "output_type": "stream",
     "text": [
      "float arr : [1.2]\n",
      "int arr by astype : [1]\n"
     ]
    }
   ],
   "source": [
    "arr = np.array([1.2])\n",
    "newa = arr.astype('i')\n",
    "print('float arr :',arr)\n",
    "print('int arr by astype :',newa)"
   ]
  },
  {
   "cell_type": "code",
   "execution_count": 10,
   "id": "3138925d",
   "metadata": {},
   "outputs": [
    {
     "name": "stdout",
     "output_type": "stream",
     "text": [
      "[ True False  True]\n"
     ]
    }
   ],
   "source": [
    "arr = np.array([1,0,2])\n",
    "narr = arr.astype(bool)\n",
    "print(narr)"
   ]
  },
  {
   "cell_type": "code",
   "execution_count": 11,
   "id": "6023bf63",
   "metadata": {},
   "outputs": [
    {
     "data": {
      "text/plain": [
       "(3,)"
      ]
     },
     "execution_count": 11,
     "metadata": {},
     "output_type": "execute_result"
    }
   ],
   "source": [
    "arr.shape"
   ]
  },
  {
   "cell_type": "code",
   "execution_count": 12,
   "id": "9276edf3",
   "metadata": {},
   "outputs": [
    {
     "name": "stdout",
     "output_type": "stream",
     "text": [
      "[[[ 1  2]\n",
      "  [ 3  4]\n",
      "  [ 5  6]]\n",
      "\n",
      " [[ 7  8]\n",
      "  [ 9 10]\n",
      "  [11 12]]]\n"
     ]
    }
   ],
   "source": [
    "arr = np.array([1,2,3,4,5,6,7,8,9,10,11,12])\n",
    "arr.shape = (2,3,2)\n",
    "print(arr)"
   ]
  },
  {
   "cell_type": "code",
   "execution_count": 13,
   "id": "77bd78af",
   "metadata": {},
   "outputs": [
    {
     "name": "stdout",
     "output_type": "stream",
     "text": [
      "[1 2] [3 4] [1 2 3 4]\n"
     ]
    }
   ],
   "source": [
    "a1 = np.array([1,2])\n",
    "a2 = np.array([3,4])\n",
    "a3 = np.concatenate((a1,a2))\n",
    "print(a1,a2,a3)"
   ]
  },
  {
   "cell_type": "code",
   "execution_count": 14,
   "id": "c95cd326",
   "metadata": {},
   "outputs": [
    {
     "name": "stdout",
     "output_type": "stream",
     "text": [
      "[array([1, 2, 3, 4])]\n"
     ]
    }
   ],
   "source": [
    "na = np.array_split(a3,1)\n",
    "print(na)"
   ]
  },
  {
   "cell_type": "code",
   "execution_count": 15,
   "id": "cf10f626",
   "metadata": {},
   "outputs": [
    {
     "name": "stdout",
     "output_type": "stream",
     "text": [
      "(array([], dtype=int64),)\n"
     ]
    }
   ],
   "source": [
    "x = np.where(a3 == 5)\n",
    "print(x)"
   ]
  },
  {
   "cell_type": "code",
   "execution_count": 16,
   "id": "4fcd6295",
   "metadata": {},
   "outputs": [
    {
     "name": "stdout",
     "output_type": "stream",
     "text": [
      "    name  age\n",
      "0  manoj   22\n",
      "1  venky   21\n"
     ]
    }
   ],
   "source": [
    "data = {\n",
    "    'name' : ['manoj','venky'],'age' : [22,21]\n",
    "}\n",
    "\n",
    "import pandas as pd\n",
    "\n",
    "d = pd.DataFrame(data)\n",
    "print(d)"
   ]
  },
  {
   "cell_type": "code",
   "execution_count": 17,
   "id": "8b00de63",
   "metadata": {},
   "outputs": [
    {
     "name": "stdout",
     "output_type": "stream",
     "text": [
      "    cars  keys\n",
      "0    bmw     1\n",
      "1  tesla     2\n",
      "2   tata     3\n"
     ]
    }
   ],
   "source": [
    "import pandas as pd\n",
    "mydataset ={\n",
    "    'cars':['bmw','tesla','tata'],'keys':[1,2,3]\n",
    "}\n",
    "x=pd.DataFrame(mydataset)\n",
    "print(x)"
   ]
  },
  {
   "cell_type": "raw",
   "id": "b30167bf",
   "metadata": {},
   "source": [
    "print(__pd.version__)"
   ]
  },
  {
   "cell_type": "code",
   "execution_count": null,
   "id": "124cf0b1",
   "metadata": {},
   "outputs": [],
   "source": []
  },
  {
   "cell_type": "code",
   "execution_count": 18,
   "id": "4a3c91bc",
   "metadata": {},
   "outputs": [
    {
     "name": "stdout",
     "output_type": "stream",
     "text": [
      "1.4.2\n"
     ]
    }
   ],
   "source": [
    "print(pd.__version__)"
   ]
  },
  {
   "cell_type": "code",
   "execution_count": 19,
   "id": "d4f6e045",
   "metadata": {},
   "outputs": [
    {
     "name": "stdout",
     "output_type": "stream",
     "text": [
      "0    1\n",
      "dtype: object\n"
     ]
    }
   ],
   "source": [
    "a:[1,2,3]\n",
    "s=pd.Series(a)\n",
    "print(s)"
   ]
  },
  {
   "cell_type": "code",
   "execution_count": 20,
   "id": "beab98a8",
   "metadata": {},
   "outputs": [
    {
     "name": "stdout",
     "output_type": "stream",
     "text": [
      "vi     566\n",
      "bio    788\n",
      "hyg    809\n",
      "dtype: int64\n"
     ]
    }
   ],
   "source": [
    "cal={'vi':566,'bio':788,'hyg':809}\n",
    "ser=pd.Series(cal)\n",
    "print(ser)"
   ]
  },
  {
   "cell_type": "code",
   "execution_count": 21,
   "id": "d994ca2d",
   "metadata": {},
   "outputs": [
    {
     "name": "stdout",
     "output_type": "stream",
     "text": [
      "    vi  bio  hyg\n",
      "0  566  788  809\n"
     ]
    }
   ],
   "source": [
    "cal={'vi':[566],'bio':[788],'hyg':[809]}\n",
    "ser1=pd.DataFrame(cal)\n",
    "print(ser1)"
   ]
  },
  {
   "cell_type": "code",
   "execution_count": 22,
   "id": "1a12486b",
   "metadata": {},
   "outputs": [
    {
     "name": "stdout",
     "output_type": "stream",
     "text": [
      "vi     566\n",
      "bio    788\n",
      "hyg    809\n",
      "Name: 0, dtype: int64\n"
     ]
    }
   ],
   "source": [
    "print(ser1.loc[0])"
   ]
  },
  {
   "cell_type": "code",
   "execution_count": 23,
   "id": "62d21804",
   "metadata": {},
   "outputs": [
    {
     "name": "stdout",
     "output_type": "stream",
     "text": [
      "       p1  p2\n",
      "vi    234  34\n",
      "opo   345  45\n",
      "djbj  456  67\n"
     ]
    }
   ],
   "source": [
    "data={\n",
    "    'p1':[234,345,456],\n",
    "    'p2':[34,45,67]\n",
    "    \n",
    "}\n",
    "d=pd.DataFrame(data,index=['vi','opo','djbj'])\n",
    "print(d)"
   ]
  },
  {
   "cell_type": "code",
   "execution_count": 24,
   "id": "97c085b3",
   "metadata": {},
   "outputs": [
    {
     "name": "stdout",
     "output_type": "stream",
     "text": [
      "         Price  Area  No. of Bedrooms  Gymnasium  SwimmingPool  IndoorGames  \\\n",
      "0      6968000  1340                2          1             1            1   \n",
      "1     29000000  3498                4          1             1            1   \n",
      "2      6590000  1318                2          1             0            1   \n",
      "3      5739000  1295                3          0             0            0   \n",
      "4      5679000  1145                2          0             0            0   \n",
      "...        ...   ...              ...        ...           ...          ...   \n",
      "2513  11000000  1460                2          9             9            9   \n",
      "2514  26000000  1314                2          9             9            9   \n",
      "2515  13300000  2625                3          9             9            9   \n",
      "2516  10800000  2050                3          9             9            9   \n",
      "2517  10400000  1805                3          9             9            9   \n",
      "\n",
      "      ShoppingMall  School  24X7Security  CarParking  Hospital  \\\n",
      "0                0       0             1           1         0   \n",
      "1                0       0             1           1         0   \n",
      "2                0       0             0           0         0   \n",
      "3                0       0             0           0         0   \n",
      "4                0       0             0           1         0   \n",
      "...            ...     ...           ...         ...       ...   \n",
      "2513             9       9             9           9         9   \n",
      "2514             9       9             9           9         9   \n",
      "2515             9       9             9           9         9   \n",
      "2516             9       9             9           9         9   \n",
      "2517             9       9             9           9         9   \n",
      "\n",
      "      Children'splayarea  LiftAvailable  \n",
      "0                      1              1  \n",
      "1                      1              1  \n",
      "2                      1              0  \n",
      "3                      0              1  \n",
      "4                      1              1  \n",
      "...                  ...            ...  \n",
      "2513                   9              9  \n",
      "2514                   9              9  \n",
      "2515                   9              9  \n",
      "2516                   9              9  \n",
      "2517                   9              9  \n",
      "\n",
      "[2518 rows x 13 columns]\n"
     ]
    }
   ],
   "source": [
    "data=pd.read_csv('data.csv')\n",
    "print(data)"
   ]
  },
  {
   "cell_type": "code",
   "execution_count": 25,
   "id": "83087a24",
   "metadata": {},
   "outputs": [
    {
     "data": {
      "text/html": [
       "<div>\n",
       "<style scoped>\n",
       "    .dataframe tbody tr th:only-of-type {\n",
       "        vertical-align: middle;\n",
       "    }\n",
       "\n",
       "    .dataframe tbody tr th {\n",
       "        vertical-align: top;\n",
       "    }\n",
       "\n",
       "    .dataframe thead th {\n",
       "        text-align: right;\n",
       "    }\n",
       "</style>\n",
       "<table border=\"1\" class=\"dataframe\">\n",
       "  <thead>\n",
       "    <tr style=\"text-align: right;\">\n",
       "      <th></th>\n",
       "      <th>Price</th>\n",
       "      <th>Area</th>\n",
       "      <th>No. of Bedrooms</th>\n",
       "      <th>Gymnasium</th>\n",
       "      <th>SwimmingPool</th>\n",
       "      <th>IndoorGames</th>\n",
       "      <th>ShoppingMall</th>\n",
       "      <th>School</th>\n",
       "      <th>24X7Security</th>\n",
       "      <th>CarParking</th>\n",
       "      <th>Hospital</th>\n",
       "      <th>Children'splayarea</th>\n",
       "      <th>LiftAvailable</th>\n",
       "    </tr>\n",
       "  </thead>\n",
       "  <tbody>\n",
       "    <tr>\n",
       "      <th>count</th>\n",
       "      <td>2.518000e+03</td>\n",
       "      <td>2518.000000</td>\n",
       "      <td>2518.000000</td>\n",
       "      <td>2518.000000</td>\n",
       "      <td>2518.000000</td>\n",
       "      <td>2518.000000</td>\n",
       "      <td>2518.000000</td>\n",
       "      <td>2518.000000</td>\n",
       "      <td>2518.000000</td>\n",
       "      <td>2518.000000</td>\n",
       "      <td>2518.000000</td>\n",
       "      <td>2518.000000</td>\n",
       "      <td>2518.000000</td>\n",
       "    </tr>\n",
       "    <tr>\n",
       "      <th>mean</th>\n",
       "      <td>9.818380e+06</td>\n",
       "      <td>1644.571088</td>\n",
       "      <td>2.623511</td>\n",
       "      <td>0.739873</td>\n",
       "      <td>0.709690</td>\n",
       "      <td>0.580620</td>\n",
       "      <td>0.366164</td>\n",
       "      <td>0.340747</td>\n",
       "      <td>0.706513</td>\n",
       "      <td>0.736299</td>\n",
       "      <td>0.339952</td>\n",
       "      <td>0.754170</td>\n",
       "      <td>0.975774</td>\n",
       "    </tr>\n",
       "    <tr>\n",
       "      <th>std</th>\n",
       "      <td>8.777113e+06</td>\n",
       "      <td>746.256956</td>\n",
       "      <td>0.687330</td>\n",
       "      <td>1.611024</td>\n",
       "      <td>1.615231</td>\n",
       "      <td>1.626794</td>\n",
       "      <td>1.623281</td>\n",
       "      <td>1.620984</td>\n",
       "      <td>1.615641</td>\n",
       "      <td>1.611552</td>\n",
       "      <td>1.620905</td>\n",
       "      <td>1.608829</td>\n",
       "      <td>1.557725</td>\n",
       "    </tr>\n",
       "    <tr>\n",
       "      <th>min</th>\n",
       "      <td>2.000000e+06</td>\n",
       "      <td>500.000000</td>\n",
       "      <td>1.000000</td>\n",
       "      <td>0.000000</td>\n",
       "      <td>0.000000</td>\n",
       "      <td>0.000000</td>\n",
       "      <td>0.000000</td>\n",
       "      <td>0.000000</td>\n",
       "      <td>0.000000</td>\n",
       "      <td>0.000000</td>\n",
       "      <td>0.000000</td>\n",
       "      <td>0.000000</td>\n",
       "      <td>0.000000</td>\n",
       "    </tr>\n",
       "    <tr>\n",
       "      <th>25%</th>\n",
       "      <td>4.760000e+06</td>\n",
       "      <td>1160.000000</td>\n",
       "      <td>2.000000</td>\n",
       "      <td>0.000000</td>\n",
       "      <td>0.000000</td>\n",
       "      <td>0.000000</td>\n",
       "      <td>0.000000</td>\n",
       "      <td>0.000000</td>\n",
       "      <td>0.000000</td>\n",
       "      <td>0.000000</td>\n",
       "      <td>0.000000</td>\n",
       "      <td>0.000000</td>\n",
       "      <td>0.000000</td>\n",
       "    </tr>\n",
       "    <tr>\n",
       "      <th>50%</th>\n",
       "      <td>7.754000e+06</td>\n",
       "      <td>1500.000000</td>\n",
       "      <td>3.000000</td>\n",
       "      <td>0.000000</td>\n",
       "      <td>0.000000</td>\n",
       "      <td>0.000000</td>\n",
       "      <td>0.000000</td>\n",
       "      <td>0.000000</td>\n",
       "      <td>0.000000</td>\n",
       "      <td>0.000000</td>\n",
       "      <td>0.000000</td>\n",
       "      <td>0.000000</td>\n",
       "      <td>1.000000</td>\n",
       "    </tr>\n",
       "    <tr>\n",
       "      <th>75%</th>\n",
       "      <td>1.090000e+07</td>\n",
       "      <td>1829.000000</td>\n",
       "      <td>3.000000</td>\n",
       "      <td>1.000000</td>\n",
       "      <td>1.000000</td>\n",
       "      <td>1.000000</td>\n",
       "      <td>0.000000</td>\n",
       "      <td>0.000000</td>\n",
       "      <td>1.000000</td>\n",
       "      <td>1.000000</td>\n",
       "      <td>0.000000</td>\n",
       "      <td>1.000000</td>\n",
       "      <td>1.000000</td>\n",
       "    </tr>\n",
       "    <tr>\n",
       "      <th>max</th>\n",
       "      <td>1.650000e+08</td>\n",
       "      <td>9400.000000</td>\n",
       "      <td>8.000000</td>\n",
       "      <td>9.000000</td>\n",
       "      <td>9.000000</td>\n",
       "      <td>9.000000</td>\n",
       "      <td>9.000000</td>\n",
       "      <td>9.000000</td>\n",
       "      <td>9.000000</td>\n",
       "      <td>9.000000</td>\n",
       "      <td>9.000000</td>\n",
       "      <td>9.000000</td>\n",
       "      <td>9.000000</td>\n",
       "    </tr>\n",
       "  </tbody>\n",
       "</table>\n",
       "</div>"
      ],
      "text/plain": [
       "              Price         Area  No. of Bedrooms    Gymnasium  SwimmingPool  \\\n",
       "count  2.518000e+03  2518.000000      2518.000000  2518.000000   2518.000000   \n",
       "mean   9.818380e+06  1644.571088         2.623511     0.739873      0.709690   \n",
       "std    8.777113e+06   746.256956         0.687330     1.611024      1.615231   \n",
       "min    2.000000e+06   500.000000         1.000000     0.000000      0.000000   \n",
       "25%    4.760000e+06  1160.000000         2.000000     0.000000      0.000000   \n",
       "50%    7.754000e+06  1500.000000         3.000000     0.000000      0.000000   \n",
       "75%    1.090000e+07  1829.000000         3.000000     1.000000      1.000000   \n",
       "max    1.650000e+08  9400.000000         8.000000     9.000000      9.000000   \n",
       "\n",
       "       IndoorGames  ShoppingMall       School  24X7Security   CarParking  \\\n",
       "count  2518.000000   2518.000000  2518.000000   2518.000000  2518.000000   \n",
       "mean      0.580620      0.366164     0.340747      0.706513     0.736299   \n",
       "std       1.626794      1.623281     1.620984      1.615641     1.611552   \n",
       "min       0.000000      0.000000     0.000000      0.000000     0.000000   \n",
       "25%       0.000000      0.000000     0.000000      0.000000     0.000000   \n",
       "50%       0.000000      0.000000     0.000000      0.000000     0.000000   \n",
       "75%       1.000000      0.000000     0.000000      1.000000     1.000000   \n",
       "max       9.000000      9.000000     9.000000      9.000000     9.000000   \n",
       "\n",
       "          Hospital  Children'splayarea  LiftAvailable  \n",
       "count  2518.000000         2518.000000    2518.000000  \n",
       "mean      0.339952            0.754170       0.975774  \n",
       "std       1.620905            1.608829       1.557725  \n",
       "min       0.000000            0.000000       0.000000  \n",
       "25%       0.000000            0.000000       0.000000  \n",
       "50%       0.000000            0.000000       1.000000  \n",
       "75%       0.000000            1.000000       1.000000  \n",
       "max       9.000000            9.000000       9.000000  "
      ]
     },
     "execution_count": 25,
     "metadata": {},
     "output_type": "execute_result"
    }
   ],
   "source": [
    "data.describe()"
   ]
  },
  {
   "cell_type": "code",
   "execution_count": 26,
   "id": "1183ff8d",
   "metadata": {},
   "outputs": [
    {
     "name": "stdout",
     "output_type": "stream",
     "text": [
      "<class 'pandas.core.frame.DataFrame'>\n",
      "RangeIndex: 2518 entries, 0 to 2517\n",
      "Data columns (total 13 columns):\n",
      " #   Column              Non-Null Count  Dtype\n",
      "---  ------              --------------  -----\n",
      " 0   Price               2518 non-null   int64\n",
      " 1   Area                2518 non-null   int64\n",
      " 2   No. of Bedrooms     2518 non-null   int64\n",
      " 3   Gymnasium           2518 non-null   int64\n",
      " 4   SwimmingPool        2518 non-null   int64\n",
      " 5   IndoorGames         2518 non-null   int64\n",
      " 6   ShoppingMall        2518 non-null   int64\n",
      " 7   School              2518 non-null   int64\n",
      " 8   24X7Security        2518 non-null   int64\n",
      " 9   CarParking          2518 non-null   int64\n",
      " 10  Hospital            2518 non-null   int64\n",
      " 11  Children'splayarea  2518 non-null   int64\n",
      " 12  LiftAvailable       2518 non-null   int64\n",
      "dtypes: int64(13)\n",
      "memory usage: 255.9 KB\n"
     ]
    }
   ],
   "source": [
    "data.info()"
   ]
  },
  {
   "cell_type": "code",
   "execution_count": 27,
   "id": "45490e69",
   "metadata": {},
   "outputs": [
    {
     "name": "stdout",
     "output_type": "stream",
     "text": [
      "3.5.1\n"
     ]
    }
   ],
   "source": [
    "import matplotlib as ml\n",
    "print(ml.__version__)"
   ]
  },
  {
   "cell_type": "code",
   "execution_count": 28,
   "id": "b3e57178",
   "metadata": {},
   "outputs": [
    {
     "ename": "NameError",
     "evalue": "name 'mat' is not defined",
     "output_type": "error",
     "traceback": [
      "\u001b[1;31m---------------------------------------------------------------------------\u001b[0m",
      "\u001b[1;31mNameError\u001b[0m                                 Traceback (most recent call last)",
      "Input \u001b[1;32mIn [28]\u001b[0m, in \u001b[0;36m<cell line: 3>\u001b[1;34m()\u001b[0m\n\u001b[0;32m      1\u001b[0m x\u001b[38;5;241m=\u001b[39mnp\u001b[38;5;241m.\u001b[39marray([\u001b[38;5;241m1\u001b[39m,\u001b[38;5;241m2\u001b[39m,\u001b[38;5;241m3\u001b[39m])\n\u001b[0;32m      2\u001b[0m y\u001b[38;5;241m=\u001b[39mnp\u001b[38;5;241m.\u001b[39marray([\u001b[38;5;241m6\u001b[39m,\u001b[38;5;241m7\u001b[39m,\u001b[38;5;241m8\u001b[39m])\n\u001b[1;32m----> 3\u001b[0m \u001b[43mmat\u001b[49m\u001b[38;5;241m.\u001b[39mplot(x,y)\n\u001b[0;32m      4\u001b[0m mat\u001b[38;5;241m.\u001b[39mshow()\n",
      "\u001b[1;31mNameError\u001b[0m: name 'mat' is not defined"
     ]
    }
   ],
   "source": [
    "x=np.array([1,2,3])\n",
    "y=np.array([6,7,8])\n",
    "mat.plot(x,y)\n",
    "mat.show()"
   ]
  },
  {
   "cell_type": "code",
   "execution_count": 33,
   "id": "e8a851e1",
   "metadata": {},
   "outputs": [
    {
     "data": {
      "image/png": "[encoded data removed]",
      "text/plain": [
       "<Figure size 432x288 with 1 Axes>"
      ]
     },
     "metadata": {
      "needs_background": "light"
     },
     "output_type": "display_data"
    }
   ],
   "source": [
    "import matplotlib.pyplot as plt\n",
    "import numpy as np\n",
    "\n",
    "xpoints = np.array([0, 6])\n",
    "ypoints = np.array([0, 250])\n",
    "\n",
    "plt.plot(xpoints, ypoints)\n",
    "plt.show()"
   ]
  },
  {
   "cell_type": "code",
   "execution_count": 34,
   "id": "f0a30f1f",
   "metadata": {},
   "outputs": [
    {
     "data": {
      "image/png": "[encoded data removed]",
      "text/plain": [
       "<Figure size 432x288 with 1 Axes>"
      ]
     },
     "metadata": {
      "needs_background": "light"
     },
     "output_type": "display_data"
    }
   ],
   "source": [
    "xpoints = np.array([1, 8])\n",
    "ypoints = np.array([3, 10])\n",
    "\n",
    "plt.plot(xpoints, ypoints)\n",
    "plt.show()"
   ]
  },
  {
   "cell_type": "code",
   "execution_count": 35,
   "id": "5267bffa",
   "metadata": {},
   "outputs": [
    {
     "data": {
      "image/png": "[encoded data removed]",
      "text/plain": [
       "<Figure size 432x288 with 1 Axes>"
      ]
     },
     "metadata": {
      "needs_background": "light"
     },
     "output_type": "display_data"
    }
   ],
   "source": [
    "xpoints = np.array([1, 8])\n",
    "ypoints = np.array([3, 10])\n",
    "\n",
    "plt.plot(xpoints, ypoints, 'o')\n",
    "plt.show()"
   ]
  },
  {
   "cell_type": "code",
   "execution_count": 36,
   "id": "d0fca3fc",
   "metadata": {},
   "outputs": [
    {
     "data": {
      "image/png": "[encoded data removed]",
      "text/plain": [
       "<Figure size 432x288 with 1 Axes>"
      ]
     },
     "metadata": {
      "needs_background": "light"
     },
     "output_type": "display_data"
    }
   ],
   "source": [
    "xpoints = np.array([1, 2, 6, 8])\n",
    "ypoints = np.array([3, 8, 1, 10])\n",
    "\n",
    "plt.plot(xpoints, ypoints,marker='o')\n",
    "plt.show()\n"
   ]
  },
  {
   "cell_type": "code",
   "execution_count": 37,
   "id": "3a946449",
   "metadata": {},
   "outputs": [
    {
     "data": {
      "image/png": "[encoded data removed]",
      "text/plain": [
       "<Figure size 432x288 with 1 Axes>"
      ]
     },
     "metadata": {
      "needs_background": "light"
     },
     "output_type": "display_data"
    }
   ],
   "source": [
    "ypoints = np.array([3, 8, 1, 10, 5, 7])\n",
    "\n",
    "plt.plot(ypoints,marker='o')\n",
    "plt.show()"
   ]
  },
  {
   "cell_type": "code",
   "execution_count": 38,
   "id": "5d980355",
   "metadata": {},
   "outputs": [
    {
     "data": {
      "image/png": "[encoded data removed]",
      "text/plain": [
       "<Figure size 432x288 with 1 Axes>"
      ]
     },
     "metadata": {
      "needs_background": "light"
     },
     "output_type": "display_data"
    }
   ],
   "source": [
    "ypoints = np.array([3, 8, 1, 10])\n",
    "\n",
    "plt.plot(ypoints, linestyle = 'dotted',marker = 'X')\n",
    "plt.show()"
   ]
  },
  {
   "cell_type": "code",
   "execution_count": 58,
   "id": "9f60399a",
   "metadata": {},
   "outputs": [
    {
     "name": "stderr",
     "output_type": "stream",
     "text": [
      "C:\\Users\\Mamilla Manoj\\AppData\\Local\\Temp\\ipykernel_10968\\2332500115.py:16: UserWarning: linestyle is redundantly defined by the 'linestyle' keyword argument and the fmt string \"o:r\" (-> linestyle=':'). The keyword argument will take precedence.\n",
      "  plt.plot(x,ypoints,'o:r',marker='o',ms = 20,linestyle='solid',linewidth='8')\n",
      "C:\\Users\\Mamilla Manoj\\AppData\\Local\\Temp\\ipykernel_10968\\2332500115.py:16: UserWarning: marker is redundantly defined by the 'marker' keyword argument and the fmt string \"o:r\" (-> marker='o'). The keyword argument will take precedence.\n",
      "  plt.plot(x,ypoints,'o:r',marker='o',ms = 20,linestyle='solid',linewidth='8')\n",
      "C:\\Users\\Mamilla Manoj\\AppData\\Local\\Temp\\ipykernel_10968\\2332500115.py:17: UserWarning: linestyle is redundantly defined by the 'linestyle' keyword argument and the fmt string \"o:g\" (-> linestyle=':'). The keyword argument will take precedence.\n",
      "  plt.plot(x1,y1,'o:g',marker='o',ms = 20,linestyle='solid',linewidth='8')\n",
      "C:\\Users\\Mamilla Manoj\\AppData\\Local\\Temp\\ipykernel_10968\\2332500115.py:17: UserWarning: marker is redundantly defined by the 'marker' keyword argument and the fmt string \"o:g\" (-> marker='o'). The keyword argument will take precedence.\n",
      "  plt.plot(x1,y1,'o:g',marker='o',ms = 20,linestyle='solid',linewidth='8')\n",
      "C:\\Users\\Mamilla Manoj\\AppData\\Local\\Temp\\ipykernel_10968\\2332500115.py:18: UserWarning: linestyle is redundantly defined by the 'linestyle' keyword argument and the fmt string \"o:g\" (-> linestyle=':'). The keyword argument will take precedence.\n",
      "  plt.plot(x2,y2,'o:g',marker='o',ms = 20,linestyle='solid',linewidth='8')\n",
      "C:\\Users\\Mamilla Manoj\\AppData\\Local\\Temp\\ipykernel_10968\\2332500115.py:18: UserWarning: marker is redundantly defined by the 'marker' keyword argument and the fmt string \"o:g\" (-> marker='o'). The keyword argument will take precedence.\n",
      "  plt.plot(x2,y2,'o:g',marker='o',ms = 20,linestyle='solid',linewidth='8')\n",
      "C:\\Users\\Mamilla Manoj\\AppData\\Local\\Temp\\ipykernel_10968\\2332500115.py:19: UserWarning: linestyle is redundantly defined by the 'linestyle' keyword argument and the fmt string \"o:b\" (-> linestyle=':'). The keyword argument will take precedence.\n",
      "  plt.plot(x3,y3,'o:b',marker='o',ms = 20,linestyle='solid',linewidth='8')\n",
      "C:\\Users\\Mamilla Manoj\\AppData\\Local\\Temp\\ipykernel_10968\\2332500115.py:19: UserWarning: marker is redundantly defined by the 'marker' keyword argument and the fmt string \"o:b\" (-> marker='o'). The keyword argument will take precedence.\n",
      "  plt.plot(x3,y3,'o:b',marker='o',ms = 20,linestyle='solid',linewidth='8')\n",
      "C:\\Users\\Mamilla Manoj\\AppData\\Local\\Temp\\ipykernel_10968\\2332500115.py:20: UserWarning: linestyle is redundantly defined by the 'linestyle' keyword argument and the fmt string \"o:r\" (-> linestyle=':'). The keyword argument will take precedence.\n",
      "  plt.plot(x4,y4,'o:r',marker='o',ms = 20,linestyle='solid',linewidth='8')\n",
      "C:\\Users\\Mamilla Manoj\\AppData\\Local\\Temp\\ipykernel_10968\\2332500115.py:20: UserWarning: marker is redundantly defined by the 'marker' keyword argument and the fmt string \"o:r\" (-> marker='o'). The keyword argument will take precedence.\n",
      "  plt.plot(x4,y4,'o:r',marker='o',ms = 20,linestyle='solid',linewidth='8')\n"
     ]
    },
    {
     "data": {
      "image/png": "[encoded data removed]",
      "text/plain": [
       "<Figure size 432x288 with 1 Axes>"
      ]
     },
     "metadata": {
      "needs_background": "light"
     },
     "output_type": "display_data"
    }
   ],
   "source": [
    "x = np.array([0,0,1.5,3,3])\n",
    "ypoints = np.array([0, 3, 1, 3, 0])\n",
    "\n",
    "x1 = np.array([4,4,5.5,7,7])\n",
    "y1 = np.array([0, 1.5, 3, 1.5, 0])\n",
    "\n",
    "x2 = np.array([4,7])\n",
    "y2 = np.array([1.5,1.5])\n",
    "\n",
    "x3 = np.array([8,8,11,11])\n",
    "y3 = np.array([0, 3, 0, 3])\n",
    "\n",
    "x4 = np.array([10,12,15,15,12])\n",
    "y4 = np.array([0, 3, 3,  0,0])\n",
    "\n",
    "x5 = np.array([16,12,15,15,12])\n",
    "y5 = np.array([3, 3, 3,  0,0])\n",
    "\n",
    "plt.plot(x,ypoints,'o:r',marker='o',ms = 20,linestyle='solid',linewidth='8')\n",
    "plt.plot(x1,y1,'o:g',marker='o',ms = 20,linestyle='solid',linewidth='8')\n",
    "plt.plot(x2,y2,'o:g',marker='o',ms = 20,linestyle='solid',linewidth='8')\n",
    "plt.plot(x3,y3,'o:b',marker='o',ms = 20,linestyle='solid',linewidth='8')\n",
    "plt.plot(x4,y4,'o:r',marker='o',ms = 20,linestyle='solid',linewidth='8')\n",
    "plt.grid(color = 'red',linestyle = '--')\n",
    "plt.show()"
   ]
  },
  {
   "cell_type": "code",
   "execution_count": 86,
   "id": "ed4ef0c1",
   "metadata": {},
   "outputs": [
    {
     "data": {
      "image/png": "[encoded data removed]",
      "text/plain": [
       "<Figure size 432x288 with 1 Axes>"
      ]
     },
     "metadata": {
      "needs_background": "light"
     },
     "output_type": "display_data"
    }
   ],
   "source": [
    "x = np.array([5,7,8,7,2,17,2,9,4,11,12,9,6])\n",
    "y = np.array([99,86,87,88,111,86,103,87,94,78,77,85,86])\n",
    "\n",
    "plt.scatter(x, y)\n",
    "plt.show()"
   ]
  },
  {
   "cell_type": "code",
   "execution_count": 87,
   "id": "ffef0c6f",
   "metadata": {},
   "outputs": [
    {
     "data": {
      "image/png": "[encoded data removed]",
      "text/plain": [
       "<Figure size 432x288 with 1 Axes>"
      ]
     },
     "metadata": {
      "needs_background": "light"
     },
     "output_type": "display_data"
    }
   ],
   "source": [
    "x = np.array([5,7,8,7,2,17,2,9,4,11,12,9,6])\n",
    "y = np.array([99,86,87,88,111,86,103,87,94,78,77,85,86])\n",
    "plt.scatter(x, y)\n",
    "\n",
    "#day two, the age and speed of 15 cars:\n",
    "x = np.array([2,2,8,1,15,8,12,9,7,3,11,4,7,14,12])\n",
    "y = np.array([100,105,84,105,90,99,90,95,94,100,79,112,91,80,85])\n",
    "plt.scatter(x, y)\n",
    "\n",
    "plt.show()"
   ]
  },
  {
   "cell_type": "code",
   "execution_count": 88,
   "id": "99e257f0",
   "metadata": {},
   "outputs": [
    {
     "data": {
      "image/png": "[encoded data removed]",
      "text/plain": [
       "<Figure size 432x288 with 1 Axes>"
      ]
     },
     "metadata": {
      "needs_background": "light"
     },
     "output_type": "display_data"
    }
   ],
   "source": [
    "x = np.array([5,7,8,7,2,17,2,9,4,11,12,9,6])\n",
    "y = np.array([99,86,87,88,111,86,103,87,94,78,77,85,86])\n",
    "plt.scatter(x, y, color = 'hotpink')\n",
    "\n",
    "x = np.array([2,2,8,1,15,8,12,9,7,3,11,4,7,14,12])\n",
    "y = np.array([100,105,84,105,90,99,90,95,94,100,79,112,91,80,85])\n",
    "plt.scatter(x, y, color = '#88c999')\n",
    "\n",
    "plt.show()"
   ]
  },
  {
   "cell_type": "code",
   "execution_count": 89,
   "id": "3f29e427",
   "metadata": {},
   "outputs": [
    {
     "data": {
      "image/png": "[encoded data removed]",
      "text/plain": [
       "<Figure size 432x288 with 1 Axes>"
      ]
     },
     "metadata": {
      "needs_background": "light"
     },
     "output_type": "display_data"
    }
   ],
   "source": [
    "x = np.array([5,7,8,7,2,17,2,9,4,11,12,9,6])\n",
    "y = np.array([99,86,87,88,111,86,103,87,94,78,77,85,86])\n",
    "colors = np.array([\"red\",\"green\",\"blue\",\"yellow\",\"pink\",\"black\",\"orange\",\"purple\",\"beige\",\"brown\",\"gray\",\"cyan\",\"magenta\"])\n",
    "\n",
    "plt.scatter(x, y, c=colors)\n",
    "\n",
    "plt.show()"
   ]
  },
  {
   "cell_type": "code",
   "execution_count": 90,
   "id": "874f93a2",
   "metadata": {},
   "outputs": [
    {
     "data": {
      "image/png": "[encoded data removed]",
      "text/plain": [
       "<Figure size 432x288 with 2 Axes>"
      ]
     },
     "metadata": {
      "needs_background": "light"
     },
     "output_type": "display_data"
    }
   ],
   "source": [
    "x = np.array([5,7,8,7,2,17,2,9,4,11,12,9,6])\n",
    "y = np.array([99,86,87,88,111,86,103,87,94,78,77,85,86])\n",
    "colors = np.array([0, 10, 20, 30, 40, 45, 50, 55, 60, 70, 80, 90, 100])\n",
    "\n",
    "plt.scatter(x, y, c=colors, cmap='viridis')\n",
    "\n",
    "plt.colorbar()\n",
    "\n",
    "plt.show()"
   ]
  },
  {
   "cell_type": "code",
   "execution_count": 91,
   "id": "e938fa1d",
   "metadata": {},
   "outputs": [
    {
     "data": {
      "image/png": "[encoded data removed]",
      "text/plain": [
       "<Figure size 432x288 with 1 Axes>"
      ]
     },
     "metadata": {
      "needs_background": "light"
     },
     "output_type": "display_data"
    }
   ],
   "source": [
    "x = np.array([\"A\", \"B\", \"C\", \"D\"])\n",
    "y = np.array([3, 8, 1, 10])\n",
    "\n",
    "plt.bar(x,y)\n",
    "plt.show()"
   ]
  },
  {
   "cell_type": "code",
   "execution_count": 92,
   "id": "53a48fe3",
   "metadata": {},
   "outputs": [
    {
     "data": {
      "image/png": "[encoded data removed]",
      "text/plain": [
       "<Figure size 432x288 with 1 Axes>"
      ]
     },
     "metadata": {
      "needs_background": "light"
     },
     "output_type": "display_data"
    }
   ],
   "source": [
    "x = np.array([\"A\", \"B\", \"C\", \"D\"])\n",
    "y = np.array([3, 8, 1, 10])\n",
    "\n",
    "plt.bar(x, y, color = \"red\")\n",
    "plt.show()"
   ]
  },
  {
   "cell_type": "code",
   "execution_count": 93,
   "id": "7c019bb4",
   "metadata": {},
   "outputs": [
    {
     "data": {
      "image/png": "[encoded data removed]",
      "text/plain": [
       "<Figure size 432x288 with 1 Axes>"
      ]
     },
     "metadata": {
      "needs_background": "light"
     },
     "output_type": "display_data"
    }
   ],
   "source": [
    "x = np.array([\"A\", \"B\", \"C\", \"D\"])\n",
    "y = np.array([3, 8, 1, 10])\n",
    "\n",
    "plt.bar(x, y, width = 0.1)\n",
    "plt.show()"
   ]
  },
  {
   "cell_type": "code",
   "execution_count": 94,
   "id": "0350aa1d",
   "metadata": {},
   "outputs": [
    {
     "data": {
      "image/png": "[encoded data removed]",
      "text/plain": [
       "<Figure size 432x288 with 1 Axes>"
      ]
     },
     "metadata": {
      "needs_background": "light"
     },
     "output_type": "display_data"
    }
   ],
   "source": [
    "x = np.random.normal(170, 10, 250)\n",
    "\n",
    "plt.hist(x)\n",
    "plt.show()"
   ]
  },
  {
   "cell_type": "code",
   "execution_count": 95,
   "id": "88bc9e36",
   "metadata": {},
   "outputs": [
    {
     "data": {
      "image/png": "[encoded data removed]",
      "text/plain": [
       "<Figure size 432x288 with 1 Axes>"
      ]
     },
     "metadata": {},
     "output_type": "display_data"
    }
   ],
   "source": [
    "y = np.array([35, 25, 25, 15])\n",
    "\n",
    "plt.pie(y)\n",
    "plt.show() "
   ]
  },
  {
   "cell_type": "code",
   "execution_count": 96,
   "id": "a20f8ef0",
   "metadata": {},
   "outputs": [
    {
     "data": {
      "image/png": "[encoded data removed]",
      "text/plain": [
       "<Figure size 432x288 with 1 Axes>"
      ]
     },
     "metadata": {},
     "output_type": "display_data"
    }
   ],
   "source": [
    "y = np.array([35, 25, 25, 15])\n",
    "mylabels = [\"Apples\", \"Bananas\", \"Cherries\", \"Dates\"]\n",
    "\n",
    "plt.pie(y, labels = mylabels)\n",
    "plt.show()"
   ]
  },
  {
   "cell_type": "code",
   "execution_count": 97,
   "id": "8706a018",
   "metadata": {},
   "outputs": [
    {
     "data": {
      "image/png": "[encoded data removed]",
      "text/plain": [
       "<Figure size 432x288 with 1 Axes>"
      ]
     },
     "metadata": {},
     "output_type": "display_data"
    }
   ],
   "source": [
    "y = np.array([35, 25, 25, 15])\n",
    "mylabels = [\"Apples\", \"Bananas\", \"Cherries\", \"Dates\"]\n",
    "\n",
    "plt.pie(y, labels = mylabels, startangle = 90)\n",
    "plt.show()"
   ]
  },
  {
   "cell_type": "code",
   "execution_count": 98,
   "id": "4c301d83",
   "metadata": {},
   "outputs": [
    {
     "data": {
      "image/png": "[encoded data removed]",
      "text/plain": [
       "<Figure size 432x288 with 1 Axes>"
      ]
     },
     "metadata": {},
     "output_type": "display_data"
    }
   ],
   "source": [
    "y = np.array([35, 25, 25, 15])\n",
    "mylabels = [\"Apples\", \"Bananas\", \"Cherries\", \"Dates\"]\n",
    "myexplode = [0.2, 0, 0, 0]\n",
    "\n",
    "plt.pie(y, labels = mylabels, explode = myexplode)\n",
    "plt.show()"
   ]
  },
  {
   "cell_type": "code",
   "execution_count": 100,
   "id": "fec139d5",
   "metadata": {},
   "outputs": [
    {
     "data": {
      "image/png": "[encoded data removed]",
      "text/plain": [
       "<Figure size 432x288 with 1 Axes>"
      ]
     },
     "metadata": {},
     "output_type": "display_data"
    }
   ],
   "source": [
    "y = np.array([35, 25, 25, 15])\n",
    "mylabels = [\"Apples\", \"Bananas\", \"Cherries\", \"Dates\"]\n",
    "mycolors = [\"black\", \"hotpink\", \"b\", \"#4CAF50\"]\n",
    "myexplode = [0.2, 0, 0, 0]\n",
    "\n",
    "plt.pie(y, labels = mylabels, explode = myexplode, shadow = True,colors = mycolors)\n",
    "plt.show()"
   ]
  },
  {
   "cell_type": "code",
   "execution_count": null,
   "id": "74879cec",
   "metadata": {},
   "outputs": [],
   "source": []
  }
 ],
 "metadata": {
  "kernelspec": {
   "display_name": "Python 3 (ipykernel)",
   "language": "python",
   "name": "python3"
  },
  "language_info": {
   "codemirror_mode": {
    "name": "ipython",
    "version": 3
   },
   "file_extension": ".py",
   "mimetype": "text/x-python",
   "name": "python",
   "nbconvert_exporter": "python",
   "pygments_lexer": "ipython3",
   "version": "3.10.4"
  }
 },
 "nbformat": 4,
 "nbformat_minor": 5
}
